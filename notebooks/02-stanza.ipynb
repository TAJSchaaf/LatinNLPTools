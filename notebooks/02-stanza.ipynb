{
 "cells": [
  {
   "cell_type": "code",
   "execution_count": 19,
   "metadata": {},
   "outputs": [],
   "source": [
    "import pandas as pd\n",
    "import numpy as np\n",
    "import matplotlib.pyplot as plt\n",
    "import seaborn as sns\n",
    "import time\n",
    "import json\n",
    "import os\n",
    "from sklearn.metrics import accuracy_score, precision_recall_fscore_support"
   ]
  },
  {
   "cell_type": "code",
   "execution_count": 20,
   "metadata": {},
   "outputs": [],
   "source": [
    "notebook_path = os.path.abspath(\"02-stanza.ipynb\")"
   ]
  },
  {
   "cell_type": "code",
   "execution_count": 21,
   "metadata": {},
   "outputs": [],
   "source": [
    "# Configuration\n",
    "MODEL_NAME = \"Stanza\"\n",
    "SAMPLE_TYPES = [\"medieval_charters\", \"glosses\"]\n",
    "TASKS = [\"lemmatization\", \"pos_tagging\"]\n"
   ]
  },
  {
   "cell_type": "code",
   "execution_count": 8,
   "metadata": {},
   "outputs": [
    {
     "name": "stderr",
     "output_type": "stream",
     "text": [
      "/Users/Thea/nlplatin/lib/python3.10/site-packages/tqdm/auto.py:21: TqdmWarning: IProgress not found. Please update jupyter and ipywidgets. See https://ipywidgets.readthedocs.io/en/stable/user_install.html\n",
      "  from .autonotebook import tqdm as notebook_tqdm\n",
      "2025-04-28 15:14:16 INFO: Checking for updates to resources.json in case models have been updated.  Note: this behavior can be turned off with download_method=None or download_method=DownloadMethod.REUSE_RESOURCES\n",
      "Downloading https://raw.githubusercontent.com/stanfordnlp/stanza-resources/main/resources_1.10.0.json: 426kB [00:00, 211MB/s]                     \n",
      "2025-04-28 15:14:17 INFO: Downloaded file to /Users/Thea/stanza_resources/resources.json\n",
      "2025-04-28 15:14:17 INFO: Loading these models for language: la (Latin):\n",
      "=============================\n",
      "| Processor | Package       |\n",
      "-----------------------------\n",
      "| tokenize  | ittb          |\n",
      "| mwt       | ittb          |\n",
      "| pos       | ittb_nocharlm |\n",
      "| lemma     | ittb_nocharlm |\n",
      "=============================\n",
      "\n",
      "2025-04-28 15:14:17 INFO: Using device: cpu\n",
      "2025-04-28 15:14:17 INFO: Loading: tokenize\n",
      "2025-04-28 15:14:19 INFO: Loading: mwt\n",
      "2025-04-28 15:14:19 INFO: Loading: pos\n",
      "2025-04-28 15:14:20 INFO: Loading: lemma\n",
      "2025-04-28 15:14:20 INFO: Done loading processors!\n"
     ]
    }
   ],
   "source": [
    "import stanza\n",
    "nlp = stanza.Pipeline('la', processors='tokenize,mwt,pos,lemma')"
   ]
  },
  {
   "cell_type": "code",
   "execution_count": 22,
   "metadata": {},
   "outputs": [],
   "source": [
    "# Results storage\n",
    "results = {\n",
    "    \"model_name\": MODEL_NAME,\n",
    "    \"processing_times\": {},\n",
    "    \"accuracy\": {},\n",
    "    \"precision\": {},\n",
    "    \"recall\": {},\n",
    "    \"f1_score\": {}\n",
    "}"
   ]
  },
  {
   "cell_type": "code",
   "execution_count": 34,
   "metadata": {},
   "outputs": [],
   "source": [
    "\n",
    "sample_type = \"medieval_charters\"\n",
    "sample_path = os.path.join(os.path.dirname(notebook_path), f\"../data/{sample_type}.csv\")\n",
    "gs_path = os.path.join(os.path.dirname(notebook_path), f\"../data/gold_standard/gs_{sample_type}.csv\")\n",
    "\n",
    "df = pd.read_csv(sample_path)\n",
    "gold_df = pd.read_csv(gs_path)\n"
   ]
  },
  {
   "cell_type": "code",
   "execution_count": 36,
   "metadata": {},
   "outputs": [],
   "source": [
    "# unpack sample texts\n",
    "sample_texts = []\n",
    "for sample_id in df['SampleID'].unique():\n",
    "    sample_texts.append((sample_id, text))\n"
   ]
  },
  {
   "cell_type": "code",
   "execution_count": 42,
   "metadata": {},
   "outputs": [],
   "source": [
    "start_time = time.time()\n",
    "\n",
    "processed_results = []\n",
    "for sample_id, text in sample_texts:\n",
    "    doc = nlp(text)\n",
    "    for sent in doc.sentences:\n",
    "            for word in sent.words:\n",
    "                processed_results.append({\n",
    "                    \"SampleID\": sample_id,\n",
    "                    \"WordID\": sample_id+\"_\"+str(word.id),\n",
    "                    \"Word\": word.text,\n",
    "                    \"Lemma\": word.lemma,\n",
    "                    \"POS\": word.pos,\n",
    "                })\n",
    "\n",
    "processing_time = time.time() - start_time\n",
    "results[\"processing_times\"][sample_type] = processing_time"
   ]
  },
  {
   "cell_type": "code",
   "execution_count": 43,
   "metadata": {},
   "outputs": [
    {
     "name": "stdout",
     "output_type": "stream",
     "text": [
      "[{'SampleID': 'ch_1', 'WordID': 'ch_1_1', 'Word': 'In', 'Lemma': 'in', 'POS': 'ADP'}, {'SampleID': 'ch_1', 'WordID': 'ch_1_2', 'Word': 'Dei', 'Lemma': 'deus', 'POS': 'NOUN'}, {'SampleID': 'ch_1', 'WordID': 'ch_1_3', 'Word': 'omnipotentis', 'Lemma': 'omnipotens', 'POS': 'ADJ'}, {'SampleID': 'ch_1', 'WordID': 'ch_1_4', 'Word': 'nomine', 'Lemma': 'nomen', 'POS': 'NOUN'}, {'SampleID': 'ch_1', 'WordID': 'ch_1_5', 'Word': 'regnante', 'Lemma': 'regno', 'POS': 'VERB'}, {'SampleID': 'ch_1', 'WordID': 'ch_1_6', 'Word': 'domno', 'Lemma': 'domnum', 'POS': 'NOUN'}, {'SampleID': 'ch_1', 'WordID': 'ch_1_7', 'Word': 'nostro', 'Lemma': 'noster', 'POS': 'DET'}, {'SampleID': 'ch_1', 'WordID': 'ch_1_8', 'Word': 'Karolus', 'Lemma': 'Karolus', 'POS': 'ADJ'}, {'SampleID': 'ch_1', 'WordID': 'ch_1_9', 'Word': 'divina', 'Lemma': 'divinus', 'POS': 'ADJ'}, {'SampleID': 'ch_1', 'WordID': 'ch_1_10', 'Word': 'faventem', 'Lemma': 'favio', 'POS': 'VERB'}, {'SampleID': 'ch_1', 'WordID': 'ch_1_11', 'Word': 'clementia', 'Lemma': 'clementia', 'POS': 'NOUN'}, {'SampleID': 'ch_1', 'WordID': 'ch_1_12', 'Word': 'rex', 'Lemma': 'rex', 'POS': 'NOUN'}, {'SampleID': 'ch_1', 'WordID': 'ch_1_13', 'Word': ',', 'Lemma': ',', 'POS': 'PUNCT'}, {'SampleID': 'ch_1', 'WordID': 'ch_1_14', 'Word': 'anno', 'Lemma': 'annus', 'POS': 'NOUN'}, {'SampleID': 'ch_1', 'WordID': 'ch_1_15', 'Word': 'regni', 'Lemma': 'regnum', 'POS': 'NOUN'}, {'SampleID': 'ch_1', 'WordID': 'ch_1_16', 'Word': 'eius', 'Lemma': 'is', 'POS': 'PRON'}, {'SampleID': 'ch_1', 'WordID': 'ch_1_17', 'Word': 'in', 'Lemma': 'in', 'POS': 'ADP'}, {'SampleID': 'ch_1', 'WordID': 'ch_1_18', 'Word': 'Italia', 'Lemma': 'italis', 'POS': 'ADJ'}, {'SampleID': 'ch_1', 'WordID': 'ch_1_19', 'Word': 'primo', 'Lemma': 'primus', 'POS': 'ADJ'}, {'SampleID': 'ch_1', 'WordID': 'ch_1_20', 'Word': ',', 'Lemma': ',', 'POS': 'PUNCT'}, {'SampleID': 'ch_1', 'WordID': 'ch_1_21', 'Word': 'octavo', 'Lemma': 'octavus', 'POS': 'ADJ'}, {'SampleID': 'ch_1', 'WordID': 'ch_1_22', 'Word': 'kalendas', 'Lemma': 'kalio', 'POS': 'VERB'}, {'SampleID': 'ch_1', 'WordID': 'ch_1_23', 'Word': 'decembris', 'Lemma': 'december', 'POS': 'NOUN'}, {'SampleID': 'ch_1', 'WordID': 'ch_1_24', 'Word': ',', 'Lemma': ',', 'POS': 'PUNCT'}, {'SampleID': 'ch_1', 'WordID': 'ch_1_25', 'Word': 'indictione', 'Lemma': 'indictio', 'POS': 'NOUN'}, {'SampleID': 'ch_1', 'WordID': 'ch_1_26', 'Word': 'quarta', 'Lemma': 'quartus', 'POS': 'ADJ'}, {'SampleID': 'ch_1', 'WordID': 'ch_1_27', 'Word': 'decima', 'Lemma': 'decimus', 'POS': 'ADJ'}, {'SampleID': 'ch_1', 'WordID': 'ch_1_28', 'Word': '.', 'Lemma': '.', 'POS': 'PUNCT'}, {'SampleID': 'ch_2', 'WordID': 'ch_2_1', 'Word': 'In', 'Lemma': 'in', 'POS': 'ADP'}, {'SampleID': 'ch_2', 'WordID': 'ch_2_2', 'Word': 'Dei', 'Lemma': 'deus', 'POS': 'NOUN'}, {'SampleID': 'ch_2', 'WordID': 'ch_2_3', 'Word': 'omnipotentis', 'Lemma': 'omnipotens', 'POS': 'ADJ'}, {'SampleID': 'ch_2', 'WordID': 'ch_2_4', 'Word': 'nomine', 'Lemma': 'nomen', 'POS': 'NOUN'}, {'SampleID': 'ch_2', 'WordID': 'ch_2_5', 'Word': 'regnante', 'Lemma': 'regno', 'POS': 'VERB'}, {'SampleID': 'ch_2', 'WordID': 'ch_2_6', 'Word': 'domno', 'Lemma': 'domnum', 'POS': 'NOUN'}, {'SampleID': 'ch_2', 'WordID': 'ch_2_7', 'Word': 'nostro', 'Lemma': 'noster', 'POS': 'DET'}, {'SampleID': 'ch_2', 'WordID': 'ch_2_8', 'Word': 'Karolus', 'Lemma': 'Karolus', 'POS': 'ADJ'}, {'SampleID': 'ch_2', 'WordID': 'ch_2_9', 'Word': 'divina', 'Lemma': 'divinus', 'POS': 'ADJ'}, {'SampleID': 'ch_2', 'WordID': 'ch_2_10', 'Word': 'faventem', 'Lemma': 'favio', 'POS': 'VERB'}, {'SampleID': 'ch_2', 'WordID': 'ch_2_11', 'Word': 'clementia', 'Lemma': 'clementia', 'POS': 'NOUN'}, {'SampleID': 'ch_2', 'WordID': 'ch_2_12', 'Word': 'rex', 'Lemma': 'rex', 'POS': 'NOUN'}, {'SampleID': 'ch_2', 'WordID': 'ch_2_13', 'Word': ',', 'Lemma': ',', 'POS': 'PUNCT'}, {'SampleID': 'ch_2', 'WordID': 'ch_2_14', 'Word': 'anno', 'Lemma': 'annus', 'POS': 'NOUN'}, {'SampleID': 'ch_2', 'WordID': 'ch_2_15', 'Word': 'regni', 'Lemma': 'regnum', 'POS': 'NOUN'}, {'SampleID': 'ch_2', 'WordID': 'ch_2_16', 'Word': 'eius', 'Lemma': 'is', 'POS': 'PRON'}, {'SampleID': 'ch_2', 'WordID': 'ch_2_17', 'Word': 'in', 'Lemma': 'in', 'POS': 'ADP'}, {'SampleID': 'ch_2', 'WordID': 'ch_2_18', 'Word': 'Italia', 'Lemma': 'italis', 'POS': 'ADJ'}, {'SampleID': 'ch_2', 'WordID': 'ch_2_19', 'Word': 'primo', 'Lemma': 'primus', 'POS': 'ADJ'}, {'SampleID': 'ch_2', 'WordID': 'ch_2_20', 'Word': ',', 'Lemma': ',', 'POS': 'PUNCT'}, {'SampleID': 'ch_2', 'WordID': 'ch_2_21', 'Word': 'octavo', 'Lemma': 'octavus', 'POS': 'ADJ'}, {'SampleID': 'ch_2', 'WordID': 'ch_2_22', 'Word': 'kalendas', 'Lemma': 'kalio', 'POS': 'VERB'}, {'SampleID': 'ch_2', 'WordID': 'ch_2_23', 'Word': 'decembris', 'Lemma': 'december', 'POS': 'NOUN'}, {'SampleID': 'ch_2', 'WordID': 'ch_2_24', 'Word': ',', 'Lemma': ',', 'POS': 'PUNCT'}, {'SampleID': 'ch_2', 'WordID': 'ch_2_25', 'Word': 'indictione', 'Lemma': 'indictio', 'POS': 'NOUN'}, {'SampleID': 'ch_2', 'WordID': 'ch_2_26', 'Word': 'quarta', 'Lemma': 'quartus', 'POS': 'ADJ'}, {'SampleID': 'ch_2', 'WordID': 'ch_2_27', 'Word': 'decima', 'Lemma': 'decimus', 'POS': 'ADJ'}, {'SampleID': 'ch_2', 'WordID': 'ch_2_28', 'Word': '.', 'Lemma': '.', 'POS': 'PUNCT'}, {'SampleID': 'ch_3', 'WordID': 'ch_3_1', 'Word': 'In', 'Lemma': 'in', 'POS': 'ADP'}, {'SampleID': 'ch_3', 'WordID': 'ch_3_2', 'Word': 'Dei', 'Lemma': 'deus', 'POS': 'NOUN'}, {'SampleID': 'ch_3', 'WordID': 'ch_3_3', 'Word': 'omnipotentis', 'Lemma': 'omnipotens', 'POS': 'ADJ'}, {'SampleID': 'ch_3', 'WordID': 'ch_3_4', 'Word': 'nomine', 'Lemma': 'nomen', 'POS': 'NOUN'}, {'SampleID': 'ch_3', 'WordID': 'ch_3_5', 'Word': 'regnante', 'Lemma': 'regno', 'POS': 'VERB'}, {'SampleID': 'ch_3', 'WordID': 'ch_3_6', 'Word': 'domno', 'Lemma': 'domnum', 'POS': 'NOUN'}, {'SampleID': 'ch_3', 'WordID': 'ch_3_7', 'Word': 'nostro', 'Lemma': 'noster', 'POS': 'DET'}, {'SampleID': 'ch_3', 'WordID': 'ch_3_8', 'Word': 'Karolus', 'Lemma': 'Karolus', 'POS': 'ADJ'}, {'SampleID': 'ch_3', 'WordID': 'ch_3_9', 'Word': 'divina', 'Lemma': 'divinus', 'POS': 'ADJ'}, {'SampleID': 'ch_3', 'WordID': 'ch_3_10', 'Word': 'faventem', 'Lemma': 'favio', 'POS': 'VERB'}, {'SampleID': 'ch_3', 'WordID': 'ch_3_11', 'Word': 'clementia', 'Lemma': 'clementia', 'POS': 'NOUN'}, {'SampleID': 'ch_3', 'WordID': 'ch_3_12', 'Word': 'rex', 'Lemma': 'rex', 'POS': 'NOUN'}, {'SampleID': 'ch_3', 'WordID': 'ch_3_13', 'Word': ',', 'Lemma': ',', 'POS': 'PUNCT'}, {'SampleID': 'ch_3', 'WordID': 'ch_3_14', 'Word': 'anno', 'Lemma': 'annus', 'POS': 'NOUN'}, {'SampleID': 'ch_3', 'WordID': 'ch_3_15', 'Word': 'regni', 'Lemma': 'regnum', 'POS': 'NOUN'}, {'SampleID': 'ch_3', 'WordID': 'ch_3_16', 'Word': 'eius', 'Lemma': 'is', 'POS': 'PRON'}, {'SampleID': 'ch_3', 'WordID': 'ch_3_17', 'Word': 'in', 'Lemma': 'in', 'POS': 'ADP'}, {'SampleID': 'ch_3', 'WordID': 'ch_3_18', 'Word': 'Italia', 'Lemma': 'italis', 'POS': 'ADJ'}, {'SampleID': 'ch_3', 'WordID': 'ch_3_19', 'Word': 'primo', 'Lemma': 'primus', 'POS': 'ADJ'}, {'SampleID': 'ch_3', 'WordID': 'ch_3_20', 'Word': ',', 'Lemma': ',', 'POS': 'PUNCT'}, {'SampleID': 'ch_3', 'WordID': 'ch_3_21', 'Word': 'octavo', 'Lemma': 'octavus', 'POS': 'ADJ'}, {'SampleID': 'ch_3', 'WordID': 'ch_3_22', 'Word': 'kalendas', 'Lemma': 'kalio', 'POS': 'VERB'}, {'SampleID': 'ch_3', 'WordID': 'ch_3_23', 'Word': 'decembris', 'Lemma': 'december', 'POS': 'NOUN'}, {'SampleID': 'ch_3', 'WordID': 'ch_3_24', 'Word': ',', 'Lemma': ',', 'POS': 'PUNCT'}, {'SampleID': 'ch_3', 'WordID': 'ch_3_25', 'Word': 'indictione', 'Lemma': 'indictio', 'POS': 'NOUN'}, {'SampleID': 'ch_3', 'WordID': 'ch_3_26', 'Word': 'quarta', 'Lemma': 'quartus', 'POS': 'ADJ'}, {'SampleID': 'ch_3', 'WordID': 'ch_3_27', 'Word': 'decima', 'Lemma': 'decimus', 'POS': 'ADJ'}, {'SampleID': 'ch_3', 'WordID': 'ch_3_28', 'Word': '.', 'Lemma': '.', 'POS': 'PUNCT'}, {'SampleID': 'ch_4', 'WordID': 'ch_4_1', 'Word': 'In', 'Lemma': 'in', 'POS': 'ADP'}, {'SampleID': 'ch_4', 'WordID': 'ch_4_2', 'Word': 'Dei', 'Lemma': 'deus', 'POS': 'NOUN'}, {'SampleID': 'ch_4', 'WordID': 'ch_4_3', 'Word': 'omnipotentis', 'Lemma': 'omnipotens', 'POS': 'ADJ'}, {'SampleID': 'ch_4', 'WordID': 'ch_4_4', 'Word': 'nomine', 'Lemma': 'nomen', 'POS': 'NOUN'}, {'SampleID': 'ch_4', 'WordID': 'ch_4_5', 'Word': 'regnante', 'Lemma': 'regno', 'POS': 'VERB'}, {'SampleID': 'ch_4', 'WordID': 'ch_4_6', 'Word': 'domno', 'Lemma': 'domnum', 'POS': 'NOUN'}, {'SampleID': 'ch_4', 'WordID': 'ch_4_7', 'Word': 'nostro', 'Lemma': 'noster', 'POS': 'DET'}, {'SampleID': 'ch_4', 'WordID': 'ch_4_8', 'Word': 'Karolus', 'Lemma': 'Karolus', 'POS': 'ADJ'}, {'SampleID': 'ch_4', 'WordID': 'ch_4_9', 'Word': 'divina', 'Lemma': 'divinus', 'POS': 'ADJ'}, {'SampleID': 'ch_4', 'WordID': 'ch_4_10', 'Word': 'faventem', 'Lemma': 'favio', 'POS': 'VERB'}, {'SampleID': 'ch_4', 'WordID': 'ch_4_11', 'Word': 'clementia', 'Lemma': 'clementia', 'POS': 'NOUN'}, {'SampleID': 'ch_4', 'WordID': 'ch_4_12', 'Word': 'rex', 'Lemma': 'rex', 'POS': 'NOUN'}, {'SampleID': 'ch_4', 'WordID': 'ch_4_13', 'Word': ',', 'Lemma': ',', 'POS': 'PUNCT'}, {'SampleID': 'ch_4', 'WordID': 'ch_4_14', 'Word': 'anno', 'Lemma': 'annus', 'POS': 'NOUN'}, {'SampleID': 'ch_4', 'WordID': 'ch_4_15', 'Word': 'regni', 'Lemma': 'regnum', 'POS': 'NOUN'}, {'SampleID': 'ch_4', 'WordID': 'ch_4_16', 'Word': 'eius', 'Lemma': 'is', 'POS': 'PRON'}, {'SampleID': 'ch_4', 'WordID': 'ch_4_17', 'Word': 'in', 'Lemma': 'in', 'POS': 'ADP'}, {'SampleID': 'ch_4', 'WordID': 'ch_4_18', 'Word': 'Italia', 'Lemma': 'italis', 'POS': 'ADJ'}, {'SampleID': 'ch_4', 'WordID': 'ch_4_19', 'Word': 'primo', 'Lemma': 'primus', 'POS': 'ADJ'}, {'SampleID': 'ch_4', 'WordID': 'ch_4_20', 'Word': ',', 'Lemma': ',', 'POS': 'PUNCT'}, {'SampleID': 'ch_4', 'WordID': 'ch_4_21', 'Word': 'octavo', 'Lemma': 'octavus', 'POS': 'ADJ'}, {'SampleID': 'ch_4', 'WordID': 'ch_4_22', 'Word': 'kalendas', 'Lemma': 'kalio', 'POS': 'VERB'}, {'SampleID': 'ch_4', 'WordID': 'ch_4_23', 'Word': 'decembris', 'Lemma': 'december', 'POS': 'NOUN'}, {'SampleID': 'ch_4', 'WordID': 'ch_4_24', 'Word': ',', 'Lemma': ',', 'POS': 'PUNCT'}, {'SampleID': 'ch_4', 'WordID': 'ch_4_25', 'Word': 'indictione', 'Lemma': 'indictio', 'POS': 'NOUN'}, {'SampleID': 'ch_4', 'WordID': 'ch_4_26', 'Word': 'quarta', 'Lemma': 'quartus', 'POS': 'ADJ'}, {'SampleID': 'ch_4', 'WordID': 'ch_4_27', 'Word': 'decima', 'Lemma': 'decimus', 'POS': 'ADJ'}, {'SampleID': 'ch_4', 'WordID': 'ch_4_28', 'Word': '.', 'Lemma': '.', 'POS': 'PUNCT'}]\n"
     ]
    }
   ],
   "source": [
    "print(processed_results)"
   ]
  },
  {
   "cell_type": "code",
   "execution_count": 38,
   "metadata": {},
   "outputs": [],
   "source": [
    "pred_df = pd.DataFrame(processed_results)"
   ]
  },
  {
   "cell_type": "code",
   "execution_count": null,
   "metadata": {},
   "outputs": [
    {
     "ename": "TypeError",
     "evalue": "concat() takes 1 positional argument but 2 were given",
     "output_type": "error",
     "traceback": [
      "\u001b[0;31m---------------------------------------------------------------------------\u001b[0m",
      "\u001b[0;31mTypeError\u001b[0m                                 Traceback (most recent call last)",
      "Cell \u001b[0;32mIn[46], line 1\u001b[0m\n\u001b[0;32m----> 1\u001b[0m merged_df \u001b[38;5;241m=\u001b[39m \u001b[43mpd\u001b[49m\u001b[38;5;241;43m.\u001b[39;49m\u001b[43mconcat\u001b[49m\u001b[43m(\u001b[49m\u001b[43mgold_df\u001b[49m\u001b[43m,\u001b[49m\u001b[43m \u001b[49m\u001b[43mpred_df\u001b[49m\u001b[43m)\u001b[49m\n",
      "\u001b[0;31mTypeError\u001b[0m: concat() takes 1 positional argument but 2 were given"
     ]
    }
   ],
   "source": [
    "merged_df = pd.concat(gold_df, pred_df, on=['SampleID', 'WordID', 'Word'], suffixes=('_gold', '_pred'))"
   ]
  }
 ],
 "metadata": {
  "kernelspec": {
   "display_name": "nlplatin",
   "language": "python",
   "name": "python3"
  },
  "language_info": {
   "codemirror_mode": {
    "name": "ipython",
    "version": 3
   },
   "file_extension": ".py",
   "mimetype": "text/x-python",
   "name": "python",
   "nbconvert_exporter": "python",
   "pygments_lexer": "ipython3",
   "version": "3.10.0"
  }
 },
 "nbformat": 4,
 "nbformat_minor": 2
}
